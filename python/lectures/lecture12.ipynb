{
 "cells": [
  {
   "cell_type": "code",
   "execution_count": 11,
   "id": "a55c506d-d35b-4741-831a-a5d2387a23ac",
   "metadata": {},
   "outputs": [],
   "source": [
    "#topic __________________LOOPS"
   ]
  },
  {
   "cell_type": "code",
   "execution_count": 12,
   "id": "7e277270-8a2b-4ea6-9b3e-07a803a588d8",
   "metadata": {},
   "outputs": [],
   "source": [
    "#use of FOR loop"
   ]
  },
  {
   "cell_type": "code",
   "execution_count": 13,
   "id": "bc613448-c2a7-48d7-aea8-412e1ba39d8b",
   "metadata": {},
   "outputs": [
    {
     "name": "stdout",
     "output_type": "stream",
     "text": [
      "Put sugar in\n",
      "Put milk in\n",
      "Put tea leaves in\n"
     ]
    }
   ],
   "source": [
    "for ingredient in \"sugar\",\"milk\",\"tea leaves\":\n",
    "    print (\"Put\" , ingredient, \"in\")"
   ]
  },
  {
   "cell_type": "code",
   "execution_count": 14,
   "id": "3c6d196f-f39f-42d2-8b17-26106d7bf36b",
   "metadata": {},
   "outputs": [
    {
     "name": "stdout",
     "output_type": "stream",
     "text": [
      "1\n",
      "2\n",
      "3\n",
      "4\n",
      "5\n",
      "6\n",
      "7\n",
      "8\n",
      "9\n",
      "10\n",
      "done\n"
     ]
    }
   ],
   "source": [
    "for i in range(1,11):\n",
    "    print (i) \n",
    "print(\"done\")"
   ]
  },
  {
   "cell_type": "code",
   "execution_count": null,
   "id": "bf93152b-2ee9-4961-a1c8-79c8e94f5cdf",
   "metadata": {},
   "outputs": [],
   "source": [
    "#use of while loop"
   ]
  },
  {
   "cell_type": "code",
   "execution_count": 6,
   "id": "e03a77c0-e805-4581-915f-358f2bd9ae5f",
   "metadata": {},
   "outputs": [
    {
     "name": "stdout",
     "output_type": "stream",
     "text": [
      "0.13\n",
      "0.26\n",
      "0.39\n",
      "0.52\n",
      "0.65\n",
      "0.78\n",
      "0.91\n",
      "Done\n"
     ]
    }
   ],
   "source": [
    "n = 0.13\n",
    "while n < 1:\n",
    "    print (n) \n",
    "    n = n + 0.13\n",
    "\n",
    "#print n\n",
    "print(\"Done\")"
   ]
  },
  {
   "cell_type": "code",
   "execution_count": null,
   "id": "fdcaaa3e-0911-4d4d-9e1b-d68911ceaa2e",
   "metadata": {},
   "outputs": [],
   "source": [
    "#another example made by me"
   ]
  },
  {
   "cell_type": "code",
   "execution_count": 10,
   "id": "b8ca5e59-4fe4-48d6-b4c3-601135ee4eff",
   "metadata": {},
   "outputs": [
    {
     "name": "stdout",
     "output_type": "stream",
     "text": [
      "2\n",
      "4\n",
      "6\n",
      "8\n",
      "10\n",
      "12\n",
      "14\n",
      "16\n",
      "18\n",
      "Done\n"
     ]
    }
   ],
   "source": [
    "n = 2\n",
    "while n < 20:\n",
    "    print (n) \n",
    "    n = n + 2\n",
    "\n",
    "#print n\n",
    "print(\"Done\")"
   ]
  },
  {
   "cell_type": "code",
   "execution_count": 16,
   "id": "7731b7b1-5fe3-446b-bad6-798e5ff0127f",
   "metadata": {},
   "outputs": [],
   "source": [
    "#we can also count how many there were by savng the count "
   ]
  },
  {
   "cell_type": "code",
   "execution_count": 26,
   "id": "35c14ab9-118d-4161-ae1a-3fce3f117ae7",
   "metadata": {},
   "outputs": [
    {
     "name": "stdout",
     "output_type": "stream",
     "text": [
      "This is our multiple #  1\n",
      "0.13\n",
      "This is our multiple #  2\n",
      "0.26\n",
      "This is our multiple #  3\n",
      "0.39\n",
      "This is our multiple #  4\n",
      "0.52\n",
      "This is our multiple #  5\n",
      "0.65\n",
      "This is our multiple #  6\n",
      "0.78\n",
      "This is our multiple #  7\n",
      "0.91\n",
      "7\n",
      "1.04\n"
     ]
    }
   ],
   "source": [
    "n = 0.13\n",
    "i = 0    #our counter variable\n",
    "\n",
    "while n < 1:\n",
    "    i = i + 1\n",
    "    print (\"This is our multiple # \" , i)\n",
    "    print (n)\n",
    "    n = n + 0.13\n",
    "    \n",
    "\n",
    "\n",
    "print (i) \n",
    "print (n)"
   ]
  },
  {
   "cell_type": "code",
   "execution_count": null,
   "id": "61fedcee-658b-4b16-83b7-0c73023f3ec0",
   "metadata": {},
   "outputs": [],
   "source": [
    "#This is called infinite loop"
   ]
  },
  {
   "cell_type": "code",
   "execution_count": null,
   "id": "47d7c0b5-893d-41d4-a147-acd1199f1f59",
   "metadata": {},
   "outputs": [],
   "source": [
    "n = 0.13\n",
    "i = 0    #our counter variable\n",
    "\n",
    "while n < 1:\n",
    "    print (n)\n",
    "    \n",
    "print (i) \n",
    "print (done)"
   ]
  },
  {
   "cell_type": "code",
   "execution_count": null,
   "id": "52e45f36-e32c-46f7-93f8-31252648af30",
   "metadata": {},
   "outputs": [],
   "source": []
  }
 ],
 "metadata": {
  "kernelspec": {
   "display_name": "Python 3 (ipykernel)",
   "language": "python",
   "name": "python3"
  },
  "language_info": {
   "codemirror_mode": {
    "name": "ipython",
    "version": 3
   },
   "file_extension": ".py",
   "mimetype": "text/x-python",
   "name": "python",
   "nbconvert_exporter": "python",
   "pygments_lexer": "ipython3",
   "version": "3.12.3"
  }
 },
 "nbformat": 4,
 "nbformat_minor": 5
}
