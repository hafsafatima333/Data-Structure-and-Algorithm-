{
 "cells": [
  {
   "cell_type": "code",
   "execution_count": null,
   "id": "5a3da777-9524-4f85-80bb-d49ce1d95dc6",
   "metadata": {},
   "outputs": [],
   "source": []
  }
 ],
 "metadata": {
  "kernelspec": {
   "display_name": "",
   "name": ""
  },
  "language_info": {
   "name": ""
  }
 },
 "nbformat": 4,
 "nbformat_minor": 5
}
