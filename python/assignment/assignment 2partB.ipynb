{
 "cells": [
  {
   "cell_type": "code",
   "execution_count": null,
   "id": "6b48db9b-0a3e-4792-aeb0-6b0abbeabfa8",
   "metadata": {},
   "outputs": [],
   "source": []
  },
  {
   "cell_type": "code",
   "execution_count": 12,
   "id": "aa15d348-f50e-4025-90b7-df9d38877d63",
   "metadata": {},
   "outputs": [
    {
     "name": "stdout",
     "output_type": "stream",
     "text": [
      "the average of a given expression is: 3.5\n"
     ]
    }
   ],
   "source": [
    "def average(x,y):\n",
    "    return (x + y)/2\n",
    "\n",
    "x = 2\n",
    "y = 5\n",
    "print (\"the average of a given expression is:\", average(x,y))"
   ]
  },
  {
   "cell_type": "code",
   "execution_count": null,
   "id": "1f66d3f4-d98e-4db7-abd5-f26ad19a8549",
   "metadata": {},
   "outputs": [],
   "source": [
    "#question # 2\n",
    "#b) Write another function named improve_guess. \n",
    "#This improvement in guess will be made according to the rule typically associated with the Heron of Alexandria. According to this rule:\n",
    "#If there is a guess [a] for the square root of a number [x], then the average of [a] and [x/a] is a better guess."
   ]
  },
  {
   "cell_type": "code",
   "execution_count": 35,
   "id": "268c05df-732f-4f55-bc40-c3f989a7d30f",
   "metadata": {},
   "outputs": [
    {
     "name": "stdout",
     "output_type": "stream",
     "text": [
      "A better guess is: 12.125\n"
     ]
    }
   ],
   "source": [
    " def improve_guess(x,a):\n",
    "     better_guess = average( a , x / a)\n",
    "     return better_guess\n",
    "\n",
    "x = 81 \n",
    "a = 4\n",
    "\n",
    "better_guess = improve_guess(x,a)\n",
    "print( \"A better guess is:\" , better_guess)\n"
   ]
  },
  {
   "cell_type": "code",
   "execution_count": 1,
   "id": "41d3ea7f-589c-4c28-81e4-3f2f8758ca1c",
   "metadata": {},
   "outputs": [
    {
     "name": "stdout",
     "output_type": "stream",
     "text": [
      "20.25\n"
     ]
    }
   ],
   "source": [
    "print(81 / 4)"
   ]
  },
  {
   "cell_type": "code",
   "execution_count": 2,
   "id": "3137a7f1-9b9c-4f64-accd-41030d53f191",
   "metadata": {},
   "outputs": [
    {
     "name": "stdout",
     "output_type": "stream",
     "text": [
      "24.25\n"
     ]
    }
   ],
   "source": [
    "print ( 4 + 20.25)"
   ]
  },
  {
   "cell_type": "code",
   "execution_count": 3,
   "id": "8ac9ab93-74fb-4db7-a132-3ca86e8da9be",
   "metadata": {},
   "outputs": [
    {
     "name": "stdout",
     "output_type": "stream",
     "text": [
      "12.125\n"
     ]
    }
   ],
   "source": [
    "print (24.25/2)"
   ]
  },
  {
   "cell_type": "code",
   "execution_count": 5,
   "id": "ebcf76a9-b895-40e9-8aeb-cd1f71bbeb29",
   "metadata": {},
   "outputs": [
    {
     "name": "stdout",
     "output_type": "stream",
     "text": [
      "3.5\n"
     ]
    }
   ],
   "source": [
    "print (7 / 2 )"
   ]
  },
  {
   "cell_type": "code",
   "execution_count": 13,
   "id": "911a3a25-252e-4f70-a227-b483b7ccd02f",
   "metadata": {},
   "outputs": [],
   "source": [
    "#question # 3 "
   ]
  },
  {
   "cell_type": "code",
   "execution_count": 33,
   "id": "ced371b3-9ead-4654-b116-523aba2261f1",
   "metadata": {},
   "outputs": [
    {
     "name": "stdout",
     "output_type": "stream",
     "text": [
      "8.999999999999982\n"
     ]
    }
   ],
   "source": [
    "def sqrt (x,guess=0.0):\n",
    "    if good_enough ( guess,x):\n",
    "        return guess \n",
    "        \n",
    "    else:\n",
    "        new_guess = improve_guess(guess,x)\n",
    "        return sqrt (x,new_guess)\n",
    "\n",
    "def good_enough(guess,x):\n",
    "    if abs (guess * guess - x)< 0.1:\n",
    "        return True \n",
    "    else:\n",
    "        return False\n",
    "\n",
    "def improve_guess(guess,x):\n",
    "    if guess < x:\n",
    "        return guess + 0.1\n",
    "\n",
    "    else:\n",
    "        return guess - 0.1\n",
    "\n",
    "print (sqrt (81 , 4))\n"
   ]
  },
  {
   "cell_type": "code",
   "execution_count": null,
   "id": "9e49e92c-a23e-4aa2-b76f-6b4602709381",
   "metadata": {},
   "outputs": [],
   "source": []
  }
 ],
 "metadata": {
  "kernelspec": {
   "display_name": "Python 3 (ipykernel)",
   "language": "python",
   "name": "python3"
  },
  "language_info": {
   "codemirror_mode": {
    "name": "ipython",
    "version": 3
   },
   "file_extension": ".py",
   "mimetype": "text/x-python",
   "name": "python",
   "nbconvert_exporter": "python",
   "pygments_lexer": "ipython3",
   "version": "3.12.3"
  }
 },
 "nbformat": 4,
 "nbformat_minor": 5
}
